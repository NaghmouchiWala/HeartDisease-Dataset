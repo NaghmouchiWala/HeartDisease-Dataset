{
  "nbformat": 4,
  "nbformat_minor": 0,
  "metadata": {
    "colab": {
      "name": "HeartDiseaseDataset",
      "provenance": [],
      "collapsed_sections": [],
      "include_colab_link": true
    },
    "kernelspec": {
      "name": "python3",
      "display_name": "Python 3"
    },
    "language_info": {
      "name": "python"
    }
  },
  "cells": [
    {
      "cell_type": "markdown",
      "metadata": {
        "id": "view-in-github",
        "colab_type": "text"
      },
      "source": [
        "<a href=\"https://colab.research.google.com/github/wala-beep/wala-beep/blob/main/HeartDiseaseDataset.ipynb\" target=\"_parent\"><img src=\"https://colab.research.google.com/assets/colab-badge.svg\" alt=\"Open In Colab\"/></a>"
      ]
    },
    {
      "cell_type": "markdown",
      "metadata": {
        "id": "glHr4G46zeJ6"
      },
      "source": [
        "In this exemple , we have a **Classification** problem ( 0/1 ) "
      ]
    },
    {
      "cell_type": "code",
      "metadata": {
        "id": "E0ZRgAprSNyt"
      },
      "source": [
        "#import of necessary libraries\n",
        "import numpy as np \n",
        "import pandas as pd\n",
        "import matplotlib.pyplot as plt\n",
        "import seaborn as sns\n",
        "#import split function , to split our dataset\n",
        "from sklearn.model_selection import train_test_split\n",
        "#import of our classification model  \n",
        "from sklearn.ensemble import RandomForestClassifier\n",
        "from sklearn.tree import DecisionTreeClassifier\n",
        "from sklearn.neighbors import KNeighborsClassifier \n",
        "from sklearn.metrics import accuracy_score\n",
        "%matplotlib inline"
      ],
      "execution_count": null,
      "outputs": []
    },
    {
      "cell_type": "code",
      "metadata": {
        "id": "knGAAvDsT84C"
      },
      "source": [
        "#import of dataset\n",
        "df = pd.read_csv(\"heart.csv\")"
      ],
      "execution_count": null,
      "outputs": []
    },
    {
      "cell_type": "code",
      "metadata": {
        "colab": {
          "base_uri": "https://localhost:8080/",
          "height": 424
        },
        "id": "ZzY3qJbpUYOT",
        "outputId": "9abf62f1-ba3f-4fb1-8146-3757a5b6dfeb"
      },
      "source": [
        "df"
      ],
      "execution_count": null,
      "outputs": [
        {
          "output_type": "execute_result",
          "data": {
            "text/html": [
              "<div>\n",
              "<style scoped>\n",
              "    .dataframe tbody tr th:only-of-type {\n",
              "        vertical-align: middle;\n",
              "    }\n",
              "\n",
              "    .dataframe tbody tr th {\n",
              "        vertical-align: top;\n",
              "    }\n",
              "\n",
              "    .dataframe thead th {\n",
              "        text-align: right;\n",
              "    }\n",
              "</style>\n",
              "<table border=\"1\" class=\"dataframe\">\n",
              "  <thead>\n",
              "    <tr style=\"text-align: right;\">\n",
              "      <th></th>\n",
              "      <th>age</th>\n",
              "      <th>sex</th>\n",
              "      <th>cp</th>\n",
              "      <th>trestbps</th>\n",
              "      <th>chol</th>\n",
              "      <th>fbs</th>\n",
              "      <th>restecg</th>\n",
              "      <th>thalach</th>\n",
              "      <th>exang</th>\n",
              "      <th>oldpeak</th>\n",
              "      <th>slope</th>\n",
              "      <th>ca</th>\n",
              "      <th>thal</th>\n",
              "      <th>target</th>\n",
              "    </tr>\n",
              "  </thead>\n",
              "  <tbody>\n",
              "    <tr>\n",
              "      <th>0</th>\n",
              "      <td>63</td>\n",
              "      <td>1</td>\n",
              "      <td>3</td>\n",
              "      <td>145</td>\n",
              "      <td>233</td>\n",
              "      <td>1</td>\n",
              "      <td>0</td>\n",
              "      <td>150</td>\n",
              "      <td>0</td>\n",
              "      <td>2.3</td>\n",
              "      <td>0</td>\n",
              "      <td>0</td>\n",
              "      <td>1</td>\n",
              "      <td>1</td>\n",
              "    </tr>\n",
              "    <tr>\n",
              "      <th>1</th>\n",
              "      <td>37</td>\n",
              "      <td>1</td>\n",
              "      <td>2</td>\n",
              "      <td>130</td>\n",
              "      <td>250</td>\n",
              "      <td>0</td>\n",
              "      <td>1</td>\n",
              "      <td>187</td>\n",
              "      <td>0</td>\n",
              "      <td>3.5</td>\n",
              "      <td>0</td>\n",
              "      <td>0</td>\n",
              "      <td>2</td>\n",
              "      <td>1</td>\n",
              "    </tr>\n",
              "    <tr>\n",
              "      <th>2</th>\n",
              "      <td>41</td>\n",
              "      <td>0</td>\n",
              "      <td>1</td>\n",
              "      <td>130</td>\n",
              "      <td>204</td>\n",
              "      <td>0</td>\n",
              "      <td>0</td>\n",
              "      <td>172</td>\n",
              "      <td>0</td>\n",
              "      <td>1.4</td>\n",
              "      <td>2</td>\n",
              "      <td>0</td>\n",
              "      <td>2</td>\n",
              "      <td>1</td>\n",
              "    </tr>\n",
              "    <tr>\n",
              "      <th>3</th>\n",
              "      <td>56</td>\n",
              "      <td>1</td>\n",
              "      <td>1</td>\n",
              "      <td>120</td>\n",
              "      <td>236</td>\n",
              "      <td>0</td>\n",
              "      <td>1</td>\n",
              "      <td>178</td>\n",
              "      <td>0</td>\n",
              "      <td>0.8</td>\n",
              "      <td>2</td>\n",
              "      <td>0</td>\n",
              "      <td>2</td>\n",
              "      <td>1</td>\n",
              "    </tr>\n",
              "    <tr>\n",
              "      <th>4</th>\n",
              "      <td>57</td>\n",
              "      <td>0</td>\n",
              "      <td>0</td>\n",
              "      <td>120</td>\n",
              "      <td>354</td>\n",
              "      <td>0</td>\n",
              "      <td>1</td>\n",
              "      <td>163</td>\n",
              "      <td>1</td>\n",
              "      <td>0.6</td>\n",
              "      <td>2</td>\n",
              "      <td>0</td>\n",
              "      <td>2</td>\n",
              "      <td>1</td>\n",
              "    </tr>\n",
              "    <tr>\n",
              "      <th>...</th>\n",
              "      <td>...</td>\n",
              "      <td>...</td>\n",
              "      <td>...</td>\n",
              "      <td>...</td>\n",
              "      <td>...</td>\n",
              "      <td>...</td>\n",
              "      <td>...</td>\n",
              "      <td>...</td>\n",
              "      <td>...</td>\n",
              "      <td>...</td>\n",
              "      <td>...</td>\n",
              "      <td>...</td>\n",
              "      <td>...</td>\n",
              "      <td>...</td>\n",
              "    </tr>\n",
              "    <tr>\n",
              "      <th>298</th>\n",
              "      <td>57</td>\n",
              "      <td>0</td>\n",
              "      <td>0</td>\n",
              "      <td>140</td>\n",
              "      <td>241</td>\n",
              "      <td>0</td>\n",
              "      <td>1</td>\n",
              "      <td>123</td>\n",
              "      <td>1</td>\n",
              "      <td>0.2</td>\n",
              "      <td>1</td>\n",
              "      <td>0</td>\n",
              "      <td>3</td>\n",
              "      <td>0</td>\n",
              "    </tr>\n",
              "    <tr>\n",
              "      <th>299</th>\n",
              "      <td>45</td>\n",
              "      <td>1</td>\n",
              "      <td>3</td>\n",
              "      <td>110</td>\n",
              "      <td>264</td>\n",
              "      <td>0</td>\n",
              "      <td>1</td>\n",
              "      <td>132</td>\n",
              "      <td>0</td>\n",
              "      <td>1.2</td>\n",
              "      <td>1</td>\n",
              "      <td>0</td>\n",
              "      <td>3</td>\n",
              "      <td>0</td>\n",
              "    </tr>\n",
              "    <tr>\n",
              "      <th>300</th>\n",
              "      <td>68</td>\n",
              "      <td>1</td>\n",
              "      <td>0</td>\n",
              "      <td>144</td>\n",
              "      <td>193</td>\n",
              "      <td>1</td>\n",
              "      <td>1</td>\n",
              "      <td>141</td>\n",
              "      <td>0</td>\n",
              "      <td>3.4</td>\n",
              "      <td>1</td>\n",
              "      <td>2</td>\n",
              "      <td>3</td>\n",
              "      <td>0</td>\n",
              "    </tr>\n",
              "    <tr>\n",
              "      <th>301</th>\n",
              "      <td>57</td>\n",
              "      <td>1</td>\n",
              "      <td>0</td>\n",
              "      <td>130</td>\n",
              "      <td>131</td>\n",
              "      <td>0</td>\n",
              "      <td>1</td>\n",
              "      <td>115</td>\n",
              "      <td>1</td>\n",
              "      <td>1.2</td>\n",
              "      <td>1</td>\n",
              "      <td>1</td>\n",
              "      <td>3</td>\n",
              "      <td>0</td>\n",
              "    </tr>\n",
              "    <tr>\n",
              "      <th>302</th>\n",
              "      <td>57</td>\n",
              "      <td>0</td>\n",
              "      <td>1</td>\n",
              "      <td>130</td>\n",
              "      <td>236</td>\n",
              "      <td>0</td>\n",
              "      <td>0</td>\n",
              "      <td>174</td>\n",
              "      <td>0</td>\n",
              "      <td>0.0</td>\n",
              "      <td>1</td>\n",
              "      <td>1</td>\n",
              "      <td>2</td>\n",
              "      <td>0</td>\n",
              "    </tr>\n",
              "  </tbody>\n",
              "</table>\n",
              "<p>303 rows × 14 columns</p>\n",
              "</div>"
            ],
            "text/plain": [
              "     age  sex  cp  trestbps  chol  fbs  ...  exang  oldpeak  slope  ca  thal  target\n",
              "0     63    1   3       145   233    1  ...      0      2.3      0   0     1       1\n",
              "1     37    1   2       130   250    0  ...      0      3.5      0   0     2       1\n",
              "2     41    0   1       130   204    0  ...      0      1.4      2   0     2       1\n",
              "3     56    1   1       120   236    0  ...      0      0.8      2   0     2       1\n",
              "4     57    0   0       120   354    0  ...      1      0.6      2   0     2       1\n",
              "..   ...  ...  ..       ...   ...  ...  ...    ...      ...    ...  ..   ...     ...\n",
              "298   57    0   0       140   241    0  ...      1      0.2      1   0     3       0\n",
              "299   45    1   3       110   264    0  ...      0      1.2      1   0     3       0\n",
              "300   68    1   0       144   193    1  ...      0      3.4      1   2     3       0\n",
              "301   57    1   0       130   131    0  ...      1      1.2      1   1     3       0\n",
              "302   57    0   1       130   236    0  ...      0      0.0      1   1     2       0\n",
              "\n",
              "[303 rows x 14 columns]"
            ]
          },
          "metadata": {},
          "execution_count": 12
        }
      ]
    },
    {
      "cell_type": "code",
      "metadata": {
        "colab": {
          "base_uri": "https://localhost:8080/"
        },
        "id": "FcgwM_zQV1BD",
        "outputId": "9eeb1961-5bd8-4224-bbc5-9bfc5eb1dd57"
      },
      "source": [
        "#check if there is any NULL values in our dataset\n",
        "df.isnull().sum()"
      ],
      "execution_count": null,
      "outputs": [
        {
          "output_type": "execute_result",
          "data": {
            "text/plain": [
              "age         0\n",
              "sex         0\n",
              "cp          0\n",
              "trestbps    0\n",
              "chol        0\n",
              "fbs         0\n",
              "restecg     0\n",
              "thalach     0\n",
              "exang       0\n",
              "oldpeak     0\n",
              "slope       0\n",
              "ca          0\n",
              "thal        0\n",
              "target      0\n",
              "dtype: int64"
            ]
          },
          "metadata": {},
          "execution_count": 13
        }
      ]
    },
    {
      "cell_type": "code",
      "metadata": {
        "id": "-OoF359IWIFa"
      },
      "source": [
        "#we saved the dataset columns names \n",
        "feature = df.columns"
      ],
      "execution_count": null,
      "outputs": []
    },
    {
      "cell_type": "code",
      "metadata": {
        "colab": {
          "base_uri": "https://localhost:8080/"
        },
        "id": "P_VApVTlWQnw",
        "outputId": "ea064a14-e657-4277-a652-ebde51c093b1"
      },
      "source": [
        "feature"
      ],
      "execution_count": null,
      "outputs": [
        {
          "output_type": "execute_result",
          "data": {
            "text/plain": [
              "Index(['age', 'sex', 'cp', 'trestbps', 'chol', 'fbs', 'restecg', 'thalach',\n",
              "       'exang', 'oldpeak', 'slope', 'ca', 'thal', 'target'],\n",
              "      dtype='object')"
            ]
          },
          "metadata": {},
          "execution_count": 15
        }
      ]
    },
    {
      "cell_type": "code",
      "metadata": {
        "id": "AMqKwJkRUoXq",
        "colab": {
          "base_uri": "https://localhost:8080/"
        },
        "outputId": "d80696db-133d-4949-cb5a-6cc1833a3b7b"
      },
      "source": [
        "#split the dateset into features  and target \n",
        "y = df.target\n",
        "sum(y)/len(y)"
      ],
      "execution_count": null,
      "outputs": [
        {
          "output_type": "execute_result",
          "data": {
            "text/plain": [
              "0.5445544554455446"
            ]
          },
          "metadata": {},
          "execution_count": 16
        }
      ]
    },
    {
      "cell_type": "code",
      "metadata": {
        "colab": {
          "base_uri": "https://localhost:8080/"
        },
        "id": "KCi3_cjwV0fy",
        "outputId": "58be0faa-b1de-4ac7-e514-2c85a3b07a16"
      },
      "source": [
        "y"
      ],
      "execution_count": null,
      "outputs": [
        {
          "output_type": "execute_result",
          "data": {
            "text/plain": [
              "0      1\n",
              "1      1\n",
              "2      1\n",
              "3      1\n",
              "4      1\n",
              "      ..\n",
              "298    0\n",
              "299    0\n",
              "300    0\n",
              "301    0\n",
              "302    0\n",
              "Name: target, Length: 303, dtype: int64"
            ]
          },
          "metadata": {},
          "execution_count": 17
        }
      ]
    },
    {
      "cell_type": "code",
      "metadata": {
        "id": "-AevGDj-tXJH"
      },
      "source": [
        "#sinn dataset_clean= dataset.dropna()"
      ],
      "execution_count": null,
      "outputs": []
    },
    {
      "cell_type": "code",
      "metadata": {
        "id": "Di5f5Q-nWRg8"
      },
      "source": [
        "#drop the column \"target\" as we saved it in y \n",
        "df=df.drop(columns=\"target\",axis=0)\n",
        "#save other values in X \n",
        "X= df.iloc[:,0:14].values # X= df['age', 'sex', 'cp', 'trestbps', 'chol', 'fbs', 'restecg', 'thalach', 'exang', 'oldpeak', 'slope', 'ca', 'thal']"
      ],
      "execution_count": null,
      "outputs": []
    },
    {
      "cell_type": "code",
      "metadata": {
        "colab": {
          "base_uri": "https://localhost:8080/"
        },
        "id": "Tg27D01VW5Bm",
        "outputId": "3d9befa2-d0fa-4924-9bf5-f6d699d42cdc"
      },
      "source": [
        "X"
      ],
      "execution_count": null,
      "outputs": [
        {
          "output_type": "execute_result",
          "data": {
            "text/plain": [
              "array([[63.,  1.,  3., ...,  0.,  0.,  1.],\n",
              "       [37.,  1.,  2., ...,  0.,  0.,  2.],\n",
              "       [41.,  0.,  1., ...,  2.,  0.,  2.],\n",
              "       ...,\n",
              "       [68.,  1.,  0., ...,  1.,  2.,  3.],\n",
              "       [57.,  1.,  0., ...,  1.,  1.,  3.],\n",
              "       [57.,  0.,  1., ...,  1.,  1.,  2.]])"
            ]
          },
          "metadata": {},
          "execution_count": 20
        }
      ]
    },
    {
      "cell_type": "code",
      "metadata": {
        "id": "u75YrMPCW8-x"
      },
      "source": [
        "#split our data set into training data and test data  \n",
        "X_train ,X_test , y_train , y_test = train_test_split(X,y)"
      ],
      "execution_count": null,
      "outputs": []
    },
    {
      "cell_type": "code",
      "metadata": {
        "colab": {
          "base_uri": "https://localhost:8080/"
        },
        "id": "M_fFn8yJXVuy",
        "outputId": "78c9eba1-b048-4dec-fc6e-300a4ab4b760"
      },
      "source": [
        "X_test.shape"
      ],
      "execution_count": null,
      "outputs": [
        {
          "output_type": "execute_result",
          "data": {
            "text/plain": [
              "(76, 13)"
            ]
          },
          "metadata": {},
          "execution_count": 22
        }
      ]
    },
    {
      "cell_type": "code",
      "metadata": {
        "colab": {
          "base_uri": "https://localhost:8080/",
          "height": 612
        },
        "id": "qJQLqscMKzb8",
        "outputId": "75964866-5cb8-4644-f873-eb81e430c9c8"
      },
      "source": [
        "#visualisation des données \n",
        "dataset = pd.read_csv(\"heart.csv\")\n",
        "correlation = dataset.corr()\n",
        "plt.subplots(figsize=(30,10))\n",
        "sns.heatmap(correlation, square=True, annot=True, fmt=\".1f\" )\n",
        "\n"
      ],
      "execution_count": null,
      "outputs": [
        {
          "output_type": "execute_result",
          "data": {
            "text/plain": [
              "<matplotlib.axes._subplots.AxesSubplot at 0x7f4a5cc019d0>"
            ]
          },
          "metadata": {},
          "execution_count": 23
        },
        {
          "output_type": "display_data",
          "data": {
            "image/png": "[encoded data removed]",
            "text/plain": [
              "<Figure size 2160x720 with 2 Axes>"
            ]
          },
          "metadata": {
            "needs_background": "light"
          }
        }
      ]
    },
    {
      "cell_type": "markdown",
      "metadata": {
        "id": "q63j21MX58PR"
      },
      "source": [
        "Decision Tree Classifier Model"
      ]
    },
    {
      "cell_type": "code",
      "metadata": {
        "id": "sUha-WVbwtF6"
      },
      "source": [
        "#build and fit the model \n",
        "hea = DecisionTreeClassifier()\n",
        "heartMod = hea.fit(X_train,y_train) # mesure of how well a machine learning model generalizes to similar data to that on which it was trained\n",
        "# save the model predictions in y_pred variable\n",
        "y_pred = hea.predict(X_test)"
      ],
      "execution_count": null,
      "outputs": []
    },
    {
      "cell_type": "code",
      "metadata": {
        "colab": {
          "base_uri": "https://localhost:8080/"
        },
        "id": "jwiwvHEhw3-V",
        "outputId": "8d695742-4314-4176-e8b8-88d84822d34f"
      },
      "source": [
        "#check the model performance by calculating the accuracy score for K splitted data sets , DEFAULT = 5 scores\n",
        "from sklearn.model_selection import cross_val_score\n",
        "scores = cross_val_score(heartMod, X_train, y_train) #Determines the cross-validation splitting strategy\n",
        "print(scores)"
      ],
      "execution_count": null,
      "outputs": [
        {
          "output_type": "stream",
          "name": "stdout",
          "text": [
            "[0.84782609 0.80434783 0.73333333 0.73333333 0.75555556]\n"
          ]
        }
      ]
    },
    {
      "cell_type": "code",
      "metadata": {
        "colab": {
          "base_uri": "https://localhost:8080/"
        },
        "id": "QkH8sZWOYj_C",
        "outputId": "81353a02-bfe9-4bda-e53b-6bd64076be6c"
      },
      "source": [
        "\n",
        "print('Accuracy of Decision Tree Classifier on training set: {:.2f}'\n",
        "     .format(heartMod.score(X_train, y_train)))\n",
        "print('Accuracy of Decision Tree Classifier on test set: {:.2f}'\n",
        "     .format(heartMod.score(X_test, y_test)))"
      ],
      "execution_count": null,
      "outputs": [
        {
          "output_type": "stream",
          "name": "stdout",
          "text": [
            "Accuracy of Decision Tree Classifier on training set: 1.00\n",
            "Accuracy of Decision Tree Classifier on test set: 0.82\n"
          ]
        }
      ]
    },
    {
      "cell_type": "code",
      "metadata": {
        "colab": {
          "base_uri": "https://localhost:8080/"
        },
        "id": "lIV9HrxgzGzn",
        "outputId": "6702d7d6-e702-41df-ee17-98506e032385"
      },
      "source": [
        "#other methode to calculate the accuracy score\n",
        "#Import scikit-learn metrics module for accuracy calculation\n",
        "from sklearn import metrics\n",
        "# Model Accuracy, how often is the classifier correct?\n",
        "print(\"Accuracy:\",metrics.accuracy_score(y_test, y_pred))"
      ],
      "execution_count": null,
      "outputs": [
        {
          "output_type": "stream",
          "name": "stdout",
          "text": [
            "Accuracy: 0.8157894736842105\n"
          ]
        }
      ]
    },
    {
      "cell_type": "code",
      "metadata": {
        "colab": {
          "base_uri": "https://localhost:8080/"
        },
        "id": "sAmv8rUvY3k-",
        "outputId": "c86fc814-c382-40ed-e466-5eb944868e2c"
      },
      "source": [
        "#global vue of the model performance , we have 75% accuracy \n",
        "from sklearn.metrics import classification_report\n",
        "print(classification_report(y_test,y_pred) )"
      ],
      "execution_count": null,
      "outputs": [
        {
          "output_type": "stream",
          "name": "stdout",
          "text": [
            "              precision    recall  f1-score   support\n",
            "\n",
            "           0       0.73      0.87      0.79        31\n",
            "           1       0.90      0.78      0.83        45\n",
            "\n",
            "    accuracy                           0.82        76\n",
            "   macro avg       0.81      0.82      0.81        76\n",
            "weighted avg       0.83      0.82      0.82        76\n",
            "\n"
          ]
        }
      ]
    },
    {
      "cell_type": "markdown",
      "metadata": {
        "id": "euj2odhN6G82"
      },
      "source": [
        "Random Forest Classifier Model "
      ]
    },
    {
      "cell_type": "code",
      "metadata": {
        "id": "BWZDJPLRZP4e"
      },
      "source": [
        "#Build and run teh model \n",
        "forest = RandomForestClassifier(n_estimators=1000 )\n",
        "forestModel = forest.fit(X_train,y_train)\n",
        "# save the model predictions in y_pred_forest variable\n",
        "y_pred_forest = forestModel.predict(X_test)"
      ],
      "execution_count": null,
      "outputs": []
    },
    {
      "cell_type": "code",
      "metadata": {
        "colab": {
          "base_uri": "https://localhost:8080/"
        },
        "id": "R8E_lFEMZ8lD",
        "outputId": "b95ea62d-1a34-46f4-ca36-306d7245928d"
      },
      "source": [
        "print('Accuracy of Random Forest Classifier on training set: {:.2f}'\n",
        "     .format(forestModel.score(X_train, y_train)))\n",
        "print('Accuracy of Random forest Classifier  on test set: {:.2f}'\n",
        "     .format(forestModel.score(X_test, y_test)))"
      ],
      "execution_count": null,
      "outputs": [
        {
          "output_type": "stream",
          "name": "stdout",
          "text": [
            "Accuracy of Random Forest Classifier on training set: 1.00\n",
            "Accuracy of Random forest Classifier  on test set: 0.84\n"
          ]
        }
      ]
    },
    {
      "cell_type": "code",
      "metadata": {
        "colab": {
          "base_uri": "https://localhost:8080/"
        },
        "id": "p2LYSFENzBV7",
        "outputId": "37f79589-7ee4-40f8-f562-dd4579466428"
      },
      "source": [
        "\n",
        "print(\"Accuracy:\",metrics.accuracy_score(y_test, y_pred_forest))"
      ],
      "execution_count": null,
      "outputs": [
        {
          "output_type": "stream",
          "name": "stdout",
          "text": [
            "Accuracy: 0.8421052631578947\n"
          ]
        }
      ]
    },
    {
      "cell_type": "code",
      "metadata": {
        "id": "Hq_xBgUTaVVL",
        "colab": {
          "base_uri": "https://localhost:8080/"
        },
        "outputId": "bbb0ee69-b15b-4cc3-8253-48ea85cf3239"
      },
      "source": [
        "print(classification_report(y_test,y_pred_forest) )\n",
        "#we have 84% accuracy , it's a good model since we use our data without cleaning  it ."
      ],
      "execution_count": null,
      "outputs": [
        {
          "output_type": "stream",
          "name": "stdout",
          "text": [
            "              precision    recall  f1-score   support\n",
            "\n",
            "           0       0.81      0.81      0.81        31\n",
            "           1       0.87      0.87      0.87        45\n",
            "\n",
            "    accuracy                           0.84        76\n",
            "   macro avg       0.84      0.84      0.84        76\n",
            "weighted avg       0.84      0.84      0.84        76\n",
            "\n"
          ]
        }
      ]
    },
    {
      "cell_type": "code",
      "metadata": {
        "id": "AVYdp6bFubOL"
      },
      "source": [
        ""
      ],
      "execution_count": null,
      "outputs": []
    },
    {
      "cell_type": "markdown",
      "metadata": {
        "id": "NBoZKA9QXmfb"
      },
      "source": [
        "KNeighborClassifier"
      ]
    },
    {
      "cell_type": "code",
      "metadata": {
        "id": "nPguyiN6XqP0"
      },
      "source": [
        "scores =[]\n",
        "for k in range(15,20):\n",
        "    neigh = KNeighborsClassifier(n_neighbors= k)\n",
        "    neigh.fit(X_train,y_train)\n",
        "    y_pred1= neigh.predict(X_test)\n",
        "    Score = accuracy_score(y_test,y_pred1)\n",
        "    scores.append(Score)\n"
      ],
      "execution_count": null,
      "outputs": []
    },
    {
      "cell_type": "code",
      "metadata": {
        "colab": {
          "base_uri": "https://localhost:8080/"
        },
        "id": "3CsJZltTbz5w",
        "outputId": "03989cc1-95b3-4297-b065-65e7009d4e23"
      },
      "source": [
        "scores"
      ],
      "execution_count": null,
      "outputs": [
        {
          "output_type": "execute_result",
          "data": {
            "text/plain": [
              "[0.631578947368421,\n",
              " 0.631578947368421,\n",
              " 0.6578947368421053,\n",
              " 0.6447368421052632,\n",
              " 0.6578947368421053]"
            ]
          },
          "metadata": {},
          "execution_count": 34
        }
      ]
    },
    {
      "cell_type": "code",
      "metadata": {
        "colab": {
          "base_uri": "https://localhost:8080/",
          "height": 282
        },
        "id": "JNa9yx6-a9Xz",
        "outputId": "e9bb1c22-82d4-4d52-854b-c8e1125cc929"
      },
      "source": [
        "\n",
        "fig, ax = plt.subplots()\n",
        "ax.plot(range(15,20),scores)"
      ],
      "execution_count": null,
      "outputs": [
        {
          "output_type": "execute_result",
          "data": {
            "text/plain": [
              "[<matplotlib.lines.Line2D at 0x7f4a5afe6450>]"
            ]
          },
          "metadata": {},
          "execution_count": 35
        },
        {
          "output_type": "display_data",
          "data": {
            "image/png": "[encoded data removed]",
            "text/plain": [
              "<Figure size 432x288 with 1 Axes>"
            ]
          },
          "metadata": {
            "needs_background": "light"
          }
        }
      ]
    },
    {
      "cell_type": "code",
      "metadata": {
        "colab": {
          "base_uri": "https://localhost:8080/"
        },
        "id": "VDD_uTzCdEub",
        "outputId": "e9765bdc-5dac-4333-d8e9-6a3ab96282e0"
      },
      "source": [
        "from sklearn.model_selection import GridSearchCV\n",
        "params = {'n_neighbors':range(1,100)}\n",
        "\n",
        "knn = KNeighborsClassifier()\n",
        "\n",
        "model = GridSearchCV(knn, params, cv=5)\n",
        "model.fit(X_train,y_train)\n",
        "model.best_params_"
      ],
      "execution_count": null,
      "outputs": [
        {
          "output_type": "execute_result",
          "data": {
            "text/plain": [
              "{'n_neighbors': 25}"
            ]
          },
          "metadata": {},
          "execution_count": 36
        }
      ]
    },
    {
      "cell_type": "markdown",
      "metadata": {
        "id": "HrKPOBJ-ev8f"
      },
      "source": [
        "LogisticRegression"
      ]
    },
    {
      "cell_type": "code",
      "metadata": {
        "colab": {
          "base_uri": "https://localhost:8080/"
        },
        "id": "C8KAXcaMd-5C",
        "outputId": "a0cd0edc-ba43-4edd-d5c2-46f27633b06e"
      },
      "source": [
        "from sklearn.linear_model import LogisticRegression\n",
        "lr = LogisticRegression()\n",
        "lr.fit(X_train,y_train)\n",
        "y_pred2 = lr.predict(X_test)\n",
        "score = accuracy_score(y_test,y_pred2)\n",
        "score\n"
      ],
      "execution_count": null,
      "outputs": [
        {
          "output_type": "stream",
          "name": "stderr",
          "text": [
            "/usr/local/lib/python3.7/dist-packages/sklearn/linear_model/_logistic.py:818: ConvergenceWarning: lbfgs failed to converge (status=1):\n",
            "STOP: TOTAL NO. of ITERATIONS REACHED LIMIT.\n",
            "\n",
            "Increase the number of iterations (max_iter) or scale the data as shown in:\n",
            "    https://scikit-learn.org/stable/modules/preprocessing.html\n",
            "Please also refer to the documentation for alternative solver options:\n",
            "    https://scikit-learn.org/stable/modules/linear_model.html#logistic-regression\n",
            "  extra_warning_msg=_LOGISTIC_SOLVER_CONVERGENCE_MSG,\n"
          ]
        },
        {
          "output_type": "execute_result",
          "data": {
            "text/plain": [
              "0.8947368421052632"
            ]
          },
          "metadata": {},
          "execution_count": 37
        }
      ]
    },
    {
      "cell_type": "code",
      "metadata": {
        "colab": {
          "base_uri": "https://localhost:8080/",
          "height": 368
        },
        "id": "1ACtFzxlfqJe",
        "outputId": "af0d13c1-dbad-4bbe-bfe9-000bfbca67eb"
      },
      "source": [
        "sns.regplot(x = \"cp\", y = \"thalach\", data = dataset ,logistic = True) \n",
        "plt.show() "
      ],
      "execution_count": null,
      "outputs": [
        {
          "output_type": "stream",
          "name": "stderr",
          "text": [
            "/usr/local/lib/python3.7/dist-packages/statsmodels/tools/_testing.py:19: FutureWarning: pandas.util.testing is deprecated. Use the functions in the public API at pandas.testing instead.\n",
            "  import pandas.util.testing as tm\n",
            "/usr/local/lib/python3.7/dist-packages/statsmodels/genmod/families/family.py:890: RuntimeWarning: divide by zero encountered in true_divide\n",
            "  n_endog_mu = self._clean((1. - endog) / (1. - mu))\n"
          ]
        },
        {
          "output_type": "display_data",
          "data": {
            "image/png": "[encoded data removed]",
            "text/plain": [
              "<Figure size 432x288 with 1 Axes>"
            ]
          },
          "metadata": {
            "needs_background": "light"
          }
        }
      ]
    },
    {
      "cell_type": "code",
      "metadata": {
        "colab": {
          "base_uri": "https://localhost:8080/",
          "height": 282
        },
        "id": "zQzHYOzD6uzi",
        "outputId": "d593aeeb-f166-4f1a-ac69-024cb7b40e0b"
      },
      "source": [
        "fig, ax = plt.subplots()\n",
        "y_all=lr.predict(X)\n",
        "ax.scatter(x=X[:,0], y=X[:,1], c=y_all , alpha=.25)"
      ],
      "execution_count": null,
      "outputs": [
        {
          "output_type": "execute_result",
          "data": {
            "text/plain": [
              "<matplotlib.collections.PathCollection at 0x7f4a5ac28c90>"
            ]
          },
          "metadata": {},
          "execution_count": 42
        },
        {
          "output_type": "display_data",
          "data": {
            "image/png": "[encoded data removed]",
            "text/plain": [
              "<Figure size 432x288 with 1 Axes>"
            ]
          },
          "metadata": {
            "needs_background": "light"
          }
        }
      ]
    }
  ]
}